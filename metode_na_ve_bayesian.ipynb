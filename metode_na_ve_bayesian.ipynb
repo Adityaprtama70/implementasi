{
  "nbformat": 4,
  "nbformat_minor": 0,
  "metadata": {
    "colab": {
      "provenance": []
    },
    "kernelspec": {
      "name": "python3",
      "display_name": "Python 3"
    },
    "language_info": {
      "name": "python"
    }
  },
  "cells": [
    {
      "cell_type": "code",
      "source": [
        "from sklearn.naive_bayes import CategoricalNB\n",
        "import pandas as pd\n",
        "\n",
        "# Data training\n",
        "data = {\n",
        "    'Jenis Kelamin': ['Laki-Laki', 'Laki-Laki', 'Perempuan', 'Perempuan', 'Laki-Laki', 'Laki-Laki', 'Perempuan', 'Perempuan', 'Laki-Laki', 'Perempuan', 'Perempuan', 'Laki-Laki'],\n",
        "    'Umur Karyawan': [20, 35, 26, 27, 21, 22, 32, 26, 25, 20, 27, 35],\n",
        "    'Gaji': [8000000, 14000000, 10000000, 12000000, 9000000, 11000000, 15000000, 8000000, 9000000, 10000000, 12000000, 14000000],\n",
        "    'Status': ['Single', 'Single', 'Single', 'Menikah', 'Single', 'Single', 'Menikah', 'Menikah', 'Single', 'Single', 'Single', 'Menikah'],\n",
        "    'Transportasi': ['Kendaraan pribadi', 'Kendaraan umum', 'Kendaraan umum', 'Kendaraan pribadi', 'Kendaraan pribadi', 'Kendaraan pribadi', 'Kendaraan umum', 'Kendaraan umum', 'Kendaraan umum', 'Kendaraan pribadi', '?', '?']\n",
        "}\n",
        "df = pd.DataFrame(data)\n",
        "\n",
        "# Konversi data kategorikal ke numerik\n",
        "df_encoded = df.apply(lambda x: pd.factorize(x)[0])\n",
        "\n",
        "# Pisahkan data training dan data target\n",
        "X_train = df_encoded.iloc[:, :-1]\n",
        "y_train = df_encoded.iloc[:, -1]\n",
        "\n",
        "# Inisialisasi model Naïve Bayesian\n",
        "model = CategoricalNB()\n",
        "\n",
        "# Training model\n",
        "model.fit(X_train, y_train)\n",
        "\n",
        "# Data yang akan diprediksi\n",
        "data_pred = {\n",
        "    'Jenis Kelamin': ['Perempuan', 'Laki-Laki'],\n",
        "    'Umur Karyawan': [29, 24],\n",
        "    'Gaji': [11000000, 9500000],\n",
        "    'Status': ['Menikah', 'Single']\n",
        "}\n",
        "df_pred = pd.DataFrame(data_pred)\n",
        "\n",
        "# Konversi data kategorikal ke numerik\n",
        "df_pred_encoded = df_pred.apply(lambda x: pd.factorize(x)[0])\n",
        "\n",
        "# Prediksi jenis transportasi\n",
        "y_pred = model.predict(df_pred_encoded)\n",
        "\n",
        "# Konversi kembali hasil prediksi ke kategori\n",
        "y_pred_category = pd.Categorical.from_codes(y_pred, df['Transportasi'].unique())\n",
        "\n",
        "# Tampilkan hasil prediksi\n",
        "print(y_pred_category)\n"
      ],
      "metadata": {
        "colab": {
          "base_uri": "https://localhost:8080/"
        },
        "id": "ged7-9V9Qkns",
        "outputId": "3236bae2-fada-44cb-e38e-fdee1c5a9cca"
      },
      "execution_count": null,
      "outputs": [
        {
          "output_type": "stream",
          "name": "stdout",
          "text": [
            "['Kendaraan pribadi', 'Kendaraan umum']\n",
            "Categories (3, object): ['Kendaraan pribadi', 'Kendaraan umum', '?']\n"
          ]
        }
      ]
    }
  ]
}